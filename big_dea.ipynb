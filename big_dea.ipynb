{
 "cells": [
  {
   "cell_type": "markdown",
   "metadata": {},
   "source": [
    "This ipynb performs the last dea of the pipeline\n",
    "- comparing each mono-culture sample to the co-culture\n",
    "- comparing each cluster of the mono-co-culture combination against each other\n",
    "- plots a volcano plot of the sample-to-sample dea"
   ]
  },
  {
   "cell_type": "code",
   "execution_count": null,
   "metadata": {},
   "outputs": [],
   "source": [
    "import scanpy as sc\n",
    "import pandas as pd\n",
    "from matplotlib import pyplot as plt\n",
    "import numpy as np\n",
    "import os\n",
    "from bioinfokit import analys, visuz"
   ]
  },
  {
   "cell_type": "code",
   "execution_count": null,
   "metadata": {},
   "outputs": [],
   "source": [
    "# astroco\n",
    "path_to_adata = 'C:/Users/julia/Project/Output_directory4/integrated_BL_C_BL_A/anndata_storage/BL_C_BL_A_subset_anndata.h5ad'\n",
    "astroco = sc.read_h5ad(os.path.join(path_to_adata))\n",
    "# neuroco\n",
    "path_to_adata = 'C:/Users/julia/Project/Output_directory4/integrated_BL_C_BL_N/anndata_storage/BL_C_BL_N_subset_anndata.h5ad'\n",
    "neuroco = sc.read_h5ad(os.path.join(path_to_adata))"
   ]
  },
  {
   "cell_type": "code",
   "execution_count": null,
   "metadata": {},
   "outputs": [],
   "source": [
    "astroco = astroco.raw.to_adata()\n",
    "neuroco = neuroco.raw.to_adata()"
   ]
  },
  {
   "cell_type": "markdown",
   "metadata": {},
   "source": [
    "Perform DEA with mono-culture against co-culture for both samples"
   ]
  },
  {
   "cell_type": "code",
   "execution_count": null,
   "metadata": {},
   "outputs": [],
   "source": [
    "sc.tl.rank_genes_groups(astroco, \n",
    "                        groupby='batch', \n",
    "                        groups=['BL_C'],\n",
    "                        method='wilcoxon',\n",
    "                        corr_method='bonferroni',\n",
    "                        pts=True)\n",
    "sc.tl.rank_genes_groups(neuroco, \n",
    "                        groupby='batch', \n",
    "                        groups=['BL_C'],\n",
    "                        method='wilcoxon',\n",
    "                        corr_method='bonferroni',\n",
    "                        pts=True)"
   ]
  },
  {
   "cell_type": "code",
   "execution_count": null,
   "metadata": {},
   "outputs": [],
   "source": [
    "sc.pl.rank_genes_groups(astroco, sharey=False, show=False, title='BL_C vs BL_A')\n",
    "sc.pl.rank_genes_groups(neuroco, sharey=False, show=False, title='BL_C vs BL_N')"
   ]
  },
  {
   "cell_type": "code",
   "execution_count": null,
   "metadata": {},
   "outputs": [],
   "source": [
    "# store results in tsv, for now take ALL p-value scores just like Maurits\n",
    "BLCAdf = sc.get.rank_genes_groups_df(astroco, group='BL_C', key='rank_genes_groups', pval_cutoff=None, log2fc_min=None, log2fc_max=None, gene_symbols=None)\n",
    "BLCNdf = sc.get.rank_genes_groups_df(neuroco, group='BL_C', key='rank_genes_groups', pval_cutoff=None, log2fc_min=None, log2fc_max=None, gene_symbols=None)\n",
    "BLCAdf.to_csv(os.path.join('C:/Users/julia/Project/big_dea_output/', 'BLCA_rank_genes_groups.tsv'), sep='\\t', encoding='utf-8')  \n",
    "BLCNdf.to_csv(os.path.join('C:/Users/julia/Project/big_dea_output/', 'BLCN_rank_genes_groups.tsv'), sep='\\t', encoding='utf-8')  "
   ]
  },
  {
   "cell_type": "markdown",
   "metadata": {},
   "source": [
    "Perform DEA in of the samples per cluster"
   ]
  },
  {
   "cell_type": "code",
   "execution_count": null,
   "metadata": {},
   "outputs": [],
   "source": [
    "sc.tl.rank_genes_groups(astroco, 'leiden', method='wilcoxon', corr_method='bonferroni', key='wilcoxon', pts=True, key_added='rank_genes_groups_leiden')\n",
    "sc.tl.rank_genes_groups(neuroco, 'leiden', method='wilcoxon', corr_method='bonferroni', key='wilcoxon', pts=True, key_added='rank_genes_groups_leiden')"
   ]
  },
  {
   "cell_type": "code",
   "execution_count": null,
   "metadata": {},
   "outputs": [],
   "source": [
    "sc.pl.rank_genes_groups(astroco, sharey=False, show=False, key='rank_genes_groups_leiden')\n",
    "sc.pl.rank_genes_groups(neuroco, sharey=False, show=False, key='rank_genes_groups_leiden')\n"
   ]
  },
  {
   "cell_type": "code",
   "execution_count": null,
   "metadata": {},
   "outputs": [],
   "source": [
    "# store results in tsv, for now take ALL p-value scores just like Maurits\n",
    "cluster = range(len(astroco.obs['leiden'].unique()))\n",
    "cluster = [str(x) for x in cluster]\n",
    "BLCAdf = sc.get.rank_genes_groups_df(astroco, group=cluster, key='rank_genes_groups_leiden', pval_cutoff=None, log2fc_min=None, log2fc_max=None, gene_symbols=None)\n",
    "cluster = range(len(neuroco.obs['leiden'].unique()))\n",
    "cluster = [str(x) for x in cluster]\n",
    "BLCNdf = sc.get.rank_genes_groups_df(neuroco, group=cluster, key='rank_genes_groups_leiden', pval_cutoff=None, log2fc_min=None, log2fc_max=None, gene_symbols=None)\n",
    "BLCAdf.to_csv(os.path.join('C:/Users/julia/Project/big_dea_output/', 'BLCA_leiden_rank_genes_groups.tsv'), sep='\\t', encoding='utf-8')  \n",
    "BLCNdf.to_csv(os.path.join('C:/Users/julia/Project/big_dea_output/', 'BLCN_leiden_rank_genes_groups.tsv'), sep='\\t', encoding='utf-8')  "
   ]
  },
  {
   "cell_type": "markdown",
   "metadata": {},
   "source": [
    "Volcano plot for both samples:"
   ]
  },
  {
   "cell_type": "code",
   "execution_count": null,
   "metadata": {},
   "outputs": [],
   "source": [
    "# I re-ran DEA for mono-culture against co-culture just to be sure\n",
    "visuz.GeneExpression.volcano(df=BLCAdf, lfc=\"logfoldchanges\", pv=\"pvals_adj\", plotlegend=True, legendpos='upper right',\n",
    "    color=('red', 'black', 'blue'), geneid=\"names\", legendanchor=(1.46,1),figname='Volcano plot Astroco',\n",
    "    gstyle=2, sign_line=True, xlm=(-50,50,5), ylm=(-50, 310,50), figtype='svg', axtickfontsize=10,\n",
    "    lfc_thr=(1, 1), pv_thr=(0.05, 0.05), show=True)\n",
    "visuz.GeneExpression.volcano(df=BLCNdf, lfc=\"logfoldchanges\", pv=\"pvals_adj\", plotlegend=True, legendpos='upper right',\n",
    "    color=('red', 'black', 'blue'), geneid=\"names\", legendanchor=(1.46,1), figname='Volcano plot Neuroco',\n",
    "    gstyle=2, sign_line=True, xlm=(-50,50,5), ylm=(-50, 310,50), figtype='svg', axtickfontsize=10,\n",
    "    lfc_thr=(1, 1), pv_thr=(0.05, 0.05), show=True)"
   ]
  }
 ],
 "metadata": {
  "kernelspec": {
   "display_name": "project-VjJne3mB",
   "language": "python",
   "name": "python3"
  },
  "language_info": {
   "codemirror_mode": {
    "name": "ipython",
    "version": 3
   },
   "file_extension": ".py",
   "mimetype": "text/x-python",
   "name": "python",
   "nbconvert_exporter": "python",
   "pygments_lexer": "ipython3",
   "version": "3.10.9"
  },
  "orig_nbformat": 4
 },
 "nbformat": 4,
 "nbformat_minor": 2
}
