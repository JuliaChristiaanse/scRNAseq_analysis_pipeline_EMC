{
 "cells": [
  {
   "cell_type": "markdown",
   "metadata": {},
   "source": [
    "This ipynb performs the last dea of the pipeline\n",
    "- comparing each mono-culture sample to the co-culture\n",
    "- comparing each cluster of the mono-co-culture combination against each other\n",
    "- plots a volcano plot of the sample-to-sample dea"
   ]
  },
  {
   "cell_type": "code",
   "execution_count": null,
   "metadata": {},
   "outputs": [],
   "source": [
    "import numpy as np\n",
    "import numpy as np\n",
    "import pandas as pd\n",
    "import scanpy as sc\n",
    "import gseapy\n",
    "import matplotlib.pyplot as plt\n",
    "import os\n",
    "from bioinfokit import analys, visuz"
   ]
  },
  {
   "cell_type": "code",
   "execution_count": null,
   "metadata": {},
   "outputs": [],
   "source": [
    "# astroco\n",
    "path_to_adata = 'C:/Users/julia/Project/CCA_implementation_raw/Cell_type_annotation/BL_A_BL_C/AnnData_storage/BL_A_BL_C_annotated.h5ad'\n",
    "astroco = sc.read_h5ad(os.path.join(path_to_adata))\n",
    "# neuroco\n",
    "path_to_adata = 'C:/Users/julia/Project/CCA_implementation_raw/Cell_type_annotation/BL_N_BL_C/AnnData_storage/BL_N_BL_C_annotated.h5ad'\n",
    "neuroco = sc.read_h5ad(os.path.join(path_to_adata))"
   ]
  },
  {
   "cell_type": "code",
   "execution_count": null,
   "metadata": {},
   "outputs": [],
   "source": [
    "astroco"
   ]
  },
  {
   "cell_type": "code",
   "execution_count": null,
   "metadata": {},
   "outputs": [],
   "source": [
    "# astroco = astroco.raw.to_adata()  # solve accessing raw counts with maurits first, for now just use X of astroco\n",
    "# neuroco = neuroco.raw.to_adata()"
   ]
  },
  {
   "cell_type": "markdown",
   "metadata": {},
   "source": [
    "Perform DEA with mono-culture against co-culture for both samples"
   ]
  },
  {
   "cell_type": "code",
   "execution_count": null,
   "metadata": {},
   "outputs": [],
   "source": [
    "sc.tl.rank_genes_groups(astroco, \n",
    "                        groupby='Sample', \n",
    "                        groups=['BL_C'],\n",
    "                        method='wilcoxon',\n",
    "                        corr_method='bonferroni',\n",
    "                        pts=True)\n",
    "# sc.tl.rank_genes_groups(neuroco, \n",
    "#                         groupby='Sample', \n",
    "#                         groups=['BL_C'],\n",
    "#                         method='wilcoxon',\n",
    "#                         corr_method='bonferroni',\n",
    "#                         pts=True)"
   ]
  },
  {
   "cell_type": "code",
   "execution_count": null,
   "metadata": {},
   "outputs": [],
   "source": [
    "# store results in tsv, for now take ALL p-value scores just like Maurits\n",
    "BLCAdf = sc.get.rank_genes_groups_df(astroco, group='BL_C', key='rank_genes_groups', pval_cutoff=None, log2fc_min=None, log2fc_max=None, gene_symbols=None)\n",
    "# BLCNdf = sc.get.rank_genes_groups_df(neuroco, group='BL_C', key='rank_genes_groups', pval_cutoff=None, log2fc_min=None, log2fc_max=None, gene_symbols=None)\n",
    "BLCAdf.to_csv(os.path.join('C:/Users/julia/Project/Last_pipeline_scripts/GSEA', 'BLCA_rank_genes_groups.tsv'), sep='\\t', encoding='utf-8')  \n",
    "# BLCNdf.to_csv(os.path.join('C:/Users/julia/Project/big_dea_output/', 'BLCN_rank_genes_groups.tsv'), sep='\\t', encoding='utf-8')  "
   ]
  },
  {
   "cell_type": "markdown",
   "metadata": {},
   "source": [
    "Perform DEA in of the samples per cluster\n",
    "- skip for now"
   ]
  },
  {
   "cell_type": "markdown",
   "metadata": {},
   "source": [
    "Volcano plot for both samples:"
   ]
  },
  {
   "cell_type": "code",
   "execution_count": null,
   "metadata": {},
   "outputs": [],
   "source": [
    "# I re-ran DEA for mono-culture against co-culture just to be sure\n",
    "visuz.GeneExpression.volcano(df=BLCAdf, lfc=\"logfoldchanges\", pv=\"pvals_adj\", plotlegend=True, legendpos='upper right',\n",
    "    color=('red', 'black', 'blue'), geneid=\"names\", legendanchor=(1.46,1),figname='Volcano plot Astroco',\n",
    "    gstyle=2, sign_line=True, xlm=(-50,50,5), ylm=(-50, 310,50), figtype='svg', axtickfontsize=10,\n",
    "    lfc_thr=(1, 1), pv_thr=(0.05, 0.05), show=True)\n",
    "# visuz.GeneExpression.volcano(df=BLCNdf, lfc=\"logfoldchanges\", pv=\"pvals_adj\", plotlegend=True, legendpos='upper right',\n",
    "#     color=('red', 'black', 'blue'), geneid=\"names\", legendanchor=(1.46,1), figname='Volcano plot Neuroco',\n",
    "#     gstyle=2, sign_line=True, xlm=(-50,50,5), ylm=(-50, 310,50), figtype='svg', axtickfontsize=10,\n",
    "#     lfc_thr=(1, 1), pv_thr=(0.05, 0.05), show=True)"
   ]
  },
  {
   "cell_type": "markdown",
   "metadata": {},
   "source": [
    "--------------------------------------------------------------------------------------------------------"
   ]
  },
  {
   "cell_type": "markdown",
   "metadata": {},
   "source": [
    "### Gene Set Enrichment Analyses (GSEA) with Scanpy ###"
   ]
  },
  {
   "cell_type": "code",
   "execution_count": null,
   "metadata": {},
   "outputs": [],
   "source": [
    "adata = astroco.copy()"
   ]
  },
  {
   "cell_type": "code",
   "execution_count": null,
   "metadata": {},
   "outputs": [],
   "source": [
    "adata.obs['seurat_annotated'] = adata.obs['kriegstein.seurat.custom.clusters.mean']\n",
    "sc.pl.umap(adata, color='seurat_annotated', legend_loc='on data')"
   ]
  },
  {
   "cell_type": "code",
   "execution_count": null,
   "metadata": {},
   "outputs": [],
   "source": [
    "from gseapy import Msigdb"
   ]
  },
  {
   "cell_type": "code",
   "execution_count": null,
   "metadata": {},
   "outputs": [],
   "source": [
    "msig = Msigdb()"
   ]
  },
  {
   "cell_type": "code",
   "execution_count": null,
   "metadata": {},
   "outputs": [],
   "source": [
    "categories = msig.list_category()"
   ]
  },
  {
   "cell_type": "code",
   "execution_count": null,
   "metadata": {},
   "outputs": [],
   "source": [
    "len(categories)"
   ]
  },
  {
   "cell_type": "code",
   "execution_count": null,
   "metadata": {},
   "outputs": [],
   "source": [
    "collection_counts = {}\n",
    "\n",
    "for item in categories:\n",
    "    parts = item.split('.')\n",
    "    \n",
    "    if len(parts) >= 1:\n",
    "        collection = parts[0]\n",
    "        if collection not in collection_counts:\n",
    "            collection_counts[collection] = [item]\n",
    "        else:\n",
    "            collection_counts[collection].append(item)\n",
    "\n",
    "print(collection_counts)"
   ]
  },
  {
   "cell_type": "code",
   "execution_count": null,
   "metadata": {},
   "outputs": [],
   "source": [
    "usable_categories = []\n",
    "collection_2_counts = {}\n",
    "for key, value in collection_counts.items():\n",
    "    if len(value) == 1:\n",
    "        usable_categories.append(f'{value[0]}')\n",
    "    else:\n",
    "        filtered_values = [item for item in value if item.split('.')[1] != 'all']\n",
    "        for i in filtered_values:\n",
    "            parts =  i.split('.')\n",
    "            second_category = parts[1]\n",
    "            if second_category not in collection_2_counts:\n",
    "                collection_2_counts[second_category] = [i]\n",
    "            else:\n",
    "                collection_2_counts[second_category].append(i)\n",
    "for key, value in collection_2_counts.items():\n",
    "    if len(value) == 1:\n",
    "        usable_categories.append(f'{value[0]}')\n",
    "    else:\n",
    "        for i in value:\n",
    "            parts = i.split('.')\n",
    "            if len(parts) > 2:\n",
    "                usable_categories.append(i)\n",
    "\n",
    "print(usable_categories)"
   ]
  },
  {
   "cell_type": "code",
   "execution_count": null,
   "metadata": {},
   "outputs": [],
   "source": [
    "usable_categories = (sorted(usable_categories))\n",
    "print(usable_categories)"
   ]
  },
  {
   "cell_type": "code",
   "execution_count": null,
   "metadata": {},
   "outputs": [],
   "source": [
    "# access gene list\n",
    "glist = sc.get.rank_genes_groups_df(adata, group='BL_C', \n",
    "                                    key='rank_genes_groups', log2fc_min=0.25, \n",
    "                                    pval_cutoff=0.05)['names'].squeeze().str.strip().tolist()\n",
    "print(len(glist))"
   ]
  },
  {
   "cell_type": "markdown",
   "metadata": {},
   "source": [
    "He gives an error on 'c2.cp.kegg' --> what is that?"
   ]
  },
  {
   "cell_type": "code",
   "execution_count": null,
   "metadata": {},
   "outputs": [],
   "source": [
    "usable_categories.remove('c2.cp.kegg') # remove this cause of strange bug?\n",
    "usable_categories.remove('msigdb') # remove this because this is the entire database --> not necessery"
   ]
  },
  {
   "cell_type": "code",
   "execution_count": null,
   "metadata": {},
   "outputs": [],
   "source": [
    "enrichr_list = []\n",
    "gmt_list = []\n",
    "for i in usable_categories:\n",
    "    gmt = msig.get_gmt(category=i, dbver='2023.2.Hs')\n",
    "    enr_res = gseapy.enrichr(gene_list=glist,\n",
    "                     organism='Human',\n",
    "                     gene_sets=gmt,\n",
    "                     cutoff = 1)\n",
    "    # change cutoff to 1 \n",
    "    gmt_list.append(gmt)\n",
    "    enrichr_list.append(enr_res)"
   ]
  },
  {
   "cell_type": "code",
   "execution_count": null,
   "metadata": {},
   "outputs": [],
   "source": [
    "print(enrichr_list)"
   ]
  },
  {
   "cell_type": "code",
   "execution_count": null,
   "metadata": {},
   "outputs": [],
   "source": [
    "gene_rank = sc.get.rank_genes_groups_df(adata, group='BL_C', key='rank_genes_groups')[['names','logfoldchanges']]\n",
    "gene_rank.sort_values(by=['logfoldchanges'], inplace=True, ascending=False)"
   ]
  },
  {
   "cell_type": "code",
   "execution_count": null,
   "metadata": {},
   "outputs": [],
   "source": [
    "gene_rank"
   ]
  },
  {
   "cell_type": "code",
   "execution_count": null,
   "metadata": {},
   "outputs": [],
   "source": [
    "# calculate qc metrics to then filter out genes that occur in less then 30 cells\n",
    "# (according to vignette, this is)\n",
    "sc.pp.calculate_qc_metrics(adata, percent_top=None, log1p=False, inplace=True)\n",
    "gene_rank = gene_rank[gene_rank['names'].isin(adata.var_names[adata.var.n_cells_by_counts>30])]\n",
    "gene_rank"
   ]
  },
  {
   "cell_type": "code",
   "execution_count": null,
   "metadata": {},
   "outputs": [],
   "source": [
    "for gmt, category_name in zip(gmt_list, usable_categories):\n",
    "    res = gseapy.prerank(rnk=gene_rank, gene_sets=gmt)\n",
    "    df = res.res2d\n",
    "    df.to_csv(os.path.join('C:/Users/julia/Project/Last_pipeline_scripts/GSEA/', f'{category_name}.csv'))"
   ]
  },
  {
   "cell_type": "code",
   "execution_count": null,
   "metadata": {},
   "outputs": [],
   "source": [
    "c5godb = pd.read_csv(os.path.join('C:/Users/julia/Project/Last_pipeline_scripts/GSEA/', 'c5.go.bp.csv'))"
   ]
  },
  {
   "cell_type": "code",
   "execution_count": null,
   "metadata": {},
   "outputs": [],
   "source": [
    "c5godb"
   ]
  },
  {
   "cell_type": "markdown",
   "metadata": {},
   "source": [
    "--------------------------------------------------------------------------------------------"
   ]
  },
  {
   "cell_type": "code",
   "execution_count": null,
   "metadata": {},
   "outputs": [],
   "source": [
    "gmt = msig.get_gmt(category='c5.go.bp', dbver='2023.2.Hs')"
   ]
  },
  {
   "cell_type": "code",
   "execution_count": null,
   "metadata": {},
   "outputs": [],
   "source": [
    "res = gseapy.prerank(rnk=gene_rank, gene_sets=gmt)"
   ]
  },
  {
   "cell_type": "code",
   "execution_count": null,
   "metadata": {},
   "outputs": [],
   "source": [
    "res.res2d.head(10)"
   ]
  },
  {
   "cell_type": "code",
   "execution_count": null,
   "metadata": {},
   "outputs": [],
   "source": [
    "res.ranking.shape # raking metric"
   ]
  },
  {
   "cell_type": "code",
   "execution_count": null,
   "metadata": {},
   "outputs": [],
   "source": [
    "term = res.res2d.Term\n",
    "# gp.gseaplot(res.ranking, term=term[i], **res.results[term[i]])\n",
    "axs = res.plot(terms=term[:5])"
   ]
  },
  {
   "cell_type": "code",
   "execution_count": null,
   "metadata": {},
   "outputs": [],
   "source": [
    "sc.tl.rank_genes_groups(adata, \n",
    "                        groupby='Sample', \n",
    "                        groups=['BL_C'],\n",
    "                        method='wilcoxon',\n",
    "                        corr_method='bonferroni',\n",
    "                        pts=True)"
   ]
  },
  {
   "cell_type": "code",
   "execution_count": null,
   "metadata": {},
   "outputs": [],
   "source": [
    "# get deg result\n",
    "result = adata.uns['rank_genes_groups']\n",
    "groups = result['names'].dtype.names\n",
    "degs = pd.DataFrame(\n",
    "    {group + '_' + key: result[key][group]\n",
    "    for group in groups for key in ['names','scores', 'pvals','pvals_adj','logfoldchanges']})"
   ]
  },
  {
   "cell_type": "code",
   "execution_count": null,
   "metadata": {},
   "outputs": [],
   "source": [
    "degs"
   ]
  },
  {
   "cell_type": "code",
   "execution_count": null,
   "metadata": {},
   "outputs": [],
   "source": [
    "# subset up or down regulated genes\n",
    "degs_sig = degs[degs.BL_C_pvals_adj < 0.05]\n",
    "degs_up = degs_sig[degs_sig.BL_C_logfoldchanges > 0]\n",
    "degs_dw = degs_sig[degs_sig.BL_C_logfoldchanges < 0]"
   ]
  },
  {
   "cell_type": "code",
   "execution_count": null,
   "metadata": {},
   "outputs": [],
   "source": [
    "degs_up.shape"
   ]
  },
  {
   "cell_type": "code",
   "execution_count": null,
   "metadata": {},
   "outputs": [],
   "source": [
    "degs_dw.shape"
   ]
  },
  {
   "cell_type": "code",
   "execution_count": null,
   "metadata": {},
   "outputs": [],
   "source": [
    "gmt"
   ]
  },
  {
   "cell_type": "code",
   "execution_count": null,
   "metadata": {},
   "outputs": [],
   "source": [
    "# Enricr API\n",
    "enr_up = gseapy.enrichr(degs_up.BL_C_names,\n",
    "                    gene_sets=gmt,\n",
    "                    outdir=None)"
   ]
  },
  {
   "cell_type": "code",
   "execution_count": null,
   "metadata": {},
   "outputs": [],
   "source": [
    "enr_up.res2d.Term = enr_up.res2d.Term.str.split(\" \\(GO\").str[0]"
   ]
  },
  {
   "cell_type": "code",
   "execution_count": null,
   "metadata": {},
   "outputs": [],
   "source": [
    "gseapy.dotplot(enr_up.res2d, figsize=(3,5), title=\"Up\", cmap = plt.cm.autumn_r)\n",
    "plt.show()"
   ]
  },
  {
   "cell_type": "code",
   "execution_count": null,
   "metadata": {},
   "outputs": [],
   "source": [
    "enr_dw = gseapy.enrichr(degs_dw.BL_C_names,\n",
    "                    gene_sets=gmt,\n",
    "                    outdir=None)"
   ]
  },
  {
   "cell_type": "code",
   "execution_count": null,
   "metadata": {},
   "outputs": [],
   "source": [
    "enr_dw.res2d.Term = enr_dw.res2d.Term.str.split(\" \\(GO\").str[0]\n",
    "gseapy.dotplot(enr_dw.res2d,\n",
    "           figsize=(3,5),\n",
    "           title=\"Down\",\n",
    "           cmap = plt.cm.winter_r,\n",
    "           size=5)\n",
    "plt.show()"
   ]
  },
  {
   "cell_type": "code",
   "execution_count": null,
   "metadata": {},
   "outputs": [],
   "source": [
    "# concat results\n",
    "enr_up.res2d['UP_DW'] = \"UP\"\n",
    "enr_dw.res2d['UP_DW'] = \"DOWN\"\n",
    "enr_res = pd.concat([enr_up.res2d.head(), enr_dw.res2d.head()])\n",
    "from gseapy.scipalette import SciPalette\n",
    "sci = SciPalette()\n",
    "NbDr = sci.create_colormap()\n",
    "# display multi-datasets\n",
    "ax = gseapy.dotplot(enr_res,figsize=(3,5),\n",
    "                x='UP_DW',\n",
    "                x_order = [\"UP\",\"DOWN\"],\n",
    "                title=\"GO_BP\",\n",
    "                cmap = NbDr.reversed(),\n",
    "                size=3,\n",
    "                cutoff=1,\n",
    "                show_ring=True)\n",
    "ax.set_xlabel(\"\")\n",
    "plt.show()"
   ]
  },
  {
   "cell_type": "code",
   "execution_count": null,
   "metadata": {},
   "outputs": [],
   "source": [
    "enr_res"
   ]
  },
  {
   "cell_type": "code",
   "execution_count": null,
   "metadata": {},
   "outputs": [],
   "source": [
    "ax = gseapy.barplot(enr_res, figsize=(3,5),\n",
    "                group ='UP_DW',\n",
    "                title =\"GO_BP\",\n",
    "                cutoff=1,\n",
    "                color = ['b','r'])"
   ]
  },
  {
   "cell_type": "code",
   "execution_count": null,
   "metadata": {},
   "outputs": [],
   "source": [
    "import networkx as nx"
   ]
  },
  {
   "cell_type": "code",
   "execution_count": null,
   "metadata": {},
   "outputs": [],
   "source": [
    "res.res2d.head()"
   ]
  },
  {
   "cell_type": "code",
   "execution_count": null,
   "metadata": {},
   "outputs": [],
   "source": [
    "nodes, edges = gseapy.enrichment_map(res.res2d)"
   ]
  },
  {
   "cell_type": "code",
   "execution_count": null,
   "metadata": {},
   "outputs": [],
   "source": [
    "nodes.head()"
   ]
  },
  {
   "cell_type": "code",
   "execution_count": null,
   "metadata": {},
   "outputs": [],
   "source": [
    "edges.head()"
   ]
  },
  {
   "cell_type": "code",
   "execution_count": null,
   "metadata": {},
   "outputs": [],
   "source": [
    "# build graph\n",
    "G = nx.from_pandas_edgelist(edges,\n",
    "                            source='src_idx',\n",
    "                            target='targ_idx',\n",
    "                            edge_attr=['jaccard_coef', 'overlap_coef', 'overlap_genes'])"
   ]
  },
  {
   "cell_type": "code",
   "execution_count": null,
   "metadata": {},
   "outputs": [],
   "source": [
    "fig, ax = plt.subplots(figsize=(8, 8))\n",
    "\n",
    "# init node cooridnates\n",
    "pos=nx.layout.spiral_layout(G)\n",
    "#node_size = nx.get_node_attributes()\n",
    "# draw node\n",
    "nx.draw_networkx_nodes(G,\n",
    "                       pos=pos,\n",
    "                       cmap=plt.cm.RdYlBu,\n",
    "                       node_color=list(nodes.NES),\n",
    "                       node_size=list(nodes.Hits_ratio *1000))\n",
    "# draw node label\n",
    "nx.draw_networkx_labels(G,\n",
    "                        pos=pos,\n",
    "                        labels=nodes.Term.to_dict())\n",
    "# draw edge\n",
    "edge_weight = nx.get_edge_attributes(G, 'jaccard_coef').values()\n",
    "nx.draw_networkx_edges(G,\n",
    "                       pos=pos,\n",
    "                       width=list(map(lambda x: x*10, edge_weight)),\n",
    "                       edge_color='#CDDBD4')\n",
    "plt.show()"
   ]
  }
 ],
 "metadata": {
  "kernelspec": {
   "display_name": "project-VjJne3mB",
   "language": "python",
   "name": "python3"
  },
  "language_info": {
   "codemirror_mode": {
    "name": "ipython",
    "version": 3
   },
   "file_extension": ".py",
   "mimetype": "text/x-python",
   "name": "python",
   "nbconvert_exporter": "python",
   "pygments_lexer": "ipython3",
   "version": "3.10.9"
  },
  "orig_nbformat": 4
 },
 "nbformat": 4,
 "nbformat_minor": 2
}
